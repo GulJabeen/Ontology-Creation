{
 "cells": [
  {
   "cell_type": "markdown",
   "metadata": {},
   "source": [
    "https://stackabuse.com/python-for-nlp-getting-started-with-the-stanfordcorenlp-library/ <br>\n",
    "https://github.com/Lynten/stanford-corenlp"
   ]
  },
  {
   "cell_type": "code",
   "execution_count": 1,
   "metadata": {},
   "outputs": [],
   "source": [
    "from stanfordcorenlp import StanfordCoreNLP\n",
    "import logging\n",
    "import json\n",
    "import pandas as pd"
   ]
  },
  {
   "cell_type": "code",
   "execution_count": 2,
   "metadata": {},
   "outputs": [],
   "source": [
    "class StanfordNLP:\n",
    "    def __init__(self, host='http://localhost', port=9000):\n",
    "        self.nlp = StanfordCoreNLP(host, port=port,\n",
    "                                   timeout=30000)  # , quiet=False, logging_level=logging.DEBUG)\n",
    "        self.props = {\n",
    "            'annotators': 'tokenize,ssplit,pos,lemma,ner,parse,depparse,dcoref,relation',\n",
    "            'pipelineLanguage': 'en',\n",
    "            'outputFormat': 'json'\n",
    "        }\n",
    "\n",
    "    def word_tokenize(self, sentence):\n",
    "        return self.nlp.word_tokenize(sentence)\n",
    "\n",
    "    def pos(self, sentence):\n",
    "        return self.nlp.pos_tag(sentence)\n",
    "\n",
    "    def ner(self, sentence):\n",
    "        return self.nlp.ner(sentence)\n",
    "\n",
    "    def parse(self, sentence):\n",
    "        return self.nlp.parse(sentence)\n",
    "\n",
    "    def dependency_parse(self, sentence):\n",
    "        return self.nlp.dependency_parse(sentence)\n",
    "\n",
    "    def annotate(self, sentence):\n",
    "        return json.loads(self.nlp.annotate(sentence, properties=self.props))\n",
    "\n",
    "    @staticmethod\n",
    "    def tokens_to_dict(_tokens):\n",
    "        tokens = defaultdict(dict)\n",
    "        for token in _tokens:\n",
    "            tokens[int(token['index'])] = {\n",
    "                'word': token['word'],\n",
    "                'lemma': token['lemma'],\n",
    "                'pos': token['pos'],\n",
    "                'ner': token['ner']\n",
    "            }\n",
    "        return tokens"
   ]
  },
  {
   "cell_type": "code",
   "execution_count": 3,
   "metadata": {},
   "outputs": [],
   "source": [
    "df = pd.read_csv('newsdataset1.csv')\n",
    "df.event_summary=df.event_summary.astype(str)\n"
   ]
  },
  {
   "cell_type": "code",
   "execution_count": 4,
   "metadata": {},
   "outputs": [
    {
     "data": {
      "text/plain": [
       "'The death toll of the suicide bombing in Ibb'"
      ]
     },
     "execution_count": 4,
     "metadata": {},
     "output_type": "execute_result"
    }
   ],
   "source": [
    "df['event_summary'][0]"
   ]
  },
  {
   "cell_type": "code",
   "execution_count": 5,
   "metadata": {},
   "outputs": [],
   "source": [
    "from nltk.parse.corenlp import CoreNLPParser\n"
   ]
  },
  {
   "cell_type": "code",
   "execution_count": 6,
   "metadata": {
    "scrolled": true
   },
   "outputs": [
    {
     "name": "stdout",
     "output_type": "stream",
     "text": [
      "\n",
      "\n",
      "\n",
      "POS: [('The', 'DT'), ('death', 'NN'), ('toll', 'NN'), ('of', 'IN'), ('the', 'DT'), ('suicide', 'NN'), ('bombing', 'NN'), ('in', 'IN'), ('Ibb', 'NNP')]\n",
      "\n",
      "\n",
      "\n",
      "Tokens: ['The', 'death', 'toll', 'of', 'the', 'suicide', 'bombing', 'in', 'Ibb']\n",
      "\n",
      "\n",
      "\n",
      "NER: [('The', 'O'), ('death', 'O'), ('toll', 'O'), ('of', 'O'), ('the', 'O'), ('suicide', 'CRIMINAL_CHARGE'), ('bombing', 'CRIMINAL_CHARGE'), ('in', 'O'), ('Ibb', 'O')]\n",
      "\n",
      "\n",
      "\n",
      "Parse: (ROOT\n",
      "  (NP\n",
      "    (NP (DT The) (NN death))\n",
      "    (NP\n",
      "      (NP (NN toll))\n",
      "      (PP (IN of)\n",
      "        (NP\n",
      "          (NP (DT the) (NN suicide) (NN bombing))\n",
      "          (PP (IN in)\n",
      "            (NP (NNP Ibb))))))))\n",
      "         ROOT                                         \n",
      "          |                                            \n",
      "          NP                                          \n",
      "      ____|_________                                   \n",
      "     |              NP                                \n",
      "     |          ____|_________                         \n",
      "     |         |              PP                      \n",
      "     |         |     _________|_______                 \n",
      "     |         |    |                 NP              \n",
      "     |         |    |          _______|_________       \n",
      "     |         |    |         |                 PP    \n",
      "     |         |    |         |              ___|___   \n",
      "     NP        NP   |         NP            |       NP\n",
      "  ___|____     |    |    _____|_______      |       |  \n",
      " DT       NN   NN   IN  DT    NN      NN    IN     NNP\n",
      " |        |    |    |   |     |       |     |       |  \n",
      "The     death toll  of the suicide bombing  in     Ibb\n",
      "\n",
      "\n",
      "\n",
      " .......................................................................... \n",
      "\n",
      "\n"
     ]
    }
   ],
   "source": [
    "if __name__ == '__main__':\n",
    "    sNLP = StanfordNLP()\n",
    "    for i in range(0, 1):\n",
    "        text = df['event_summary'][i]\n",
    "#         print (\"Annotate:\", sNLP.annotate(text))\n",
    "        print('\\n\\n')\n",
    "        print (\"POS:\", sNLP.pos(text))\n",
    "        print('\\n\\n')\n",
    "        print (\"Tokens:\", sNLP.word_tokenize(text))\n",
    "        print('\\n\\n')\n",
    "        print (\"NER:\", sNLP.ner(text))\n",
    "        print('\\n\\n')\n",
    "        print (\"Parse:\", sNLP.parse(text))\n",
    "        sentence=sNLP.parse(text)\n",
    "        parser = CoreNLPParser()\n",
    "        next(parser.raw_parse(text)).pretty_print()\n",
    "        print('\\n\\n .......................................................................... \\n\\n')\n",
    "#         print (\"Dep Parse:\", sNLP.dependency_parse(text))"
   ]
  },
  {
   "cell_type": "code",
   "execution_count": 7,
   "metadata": {},
   "outputs": [],
   "source": [
    "from nltk.tree import Tree"
   ]
  },
  {
   "cell_type": "code",
   "execution_count": 8,
   "metadata": {},
   "outputs": [],
   "source": [
    "parsestr=sNLP.parse(text)"
   ]
  },
  {
   "cell_type": "code",
   "execution_count": 9,
   "metadata": {},
   "outputs": [
    {
     "data": {
      "text/plain": [
       "'(ROOT\\r\\n  (NP\\r\\n    (NP (DT The) (NN death))\\r\\n    (NP\\r\\n      (NP (NN toll))\\r\\n      (PP (IN of)\\r\\n        (NP\\r\\n          (NP (DT the) (NN suicide) (NN bombing))\\r\\n          (PP (IN in)\\r\\n            (NP (NNP Ibb))))))))'"
      ]
     },
     "execution_count": 9,
     "metadata": {},
     "output_type": "execute_result"
    }
   ],
   "source": [
    "parsestr"
   ]
  },
  {
   "cell_type": "code",
   "execution_count": 10,
   "metadata": {},
   "outputs": [],
   "source": [
    "# parsestr='(ROOT (S (NP (NP (DT The) (JJ old) (NN oak) (NN tree)) (PP (IN from) (NP (NNP India)))) (VP (VBD fell) (PRT (RP down)))))'"
   ]
  },
  {
   "cell_type": "code",
   "execution_count": 11,
   "metadata": {},
   "outputs": [],
   "source": [
    "import math"
   ]
  },
  {
   "cell_type": "code",
   "execution_count": 12,
   "metadata": {},
   "outputs": [
    {
     "name": "stdout",
     "output_type": "stream",
     "text": [
      "(NP\n",
      "  (NP (DT The) (NN death))\n",
      "  (NP\n",
      "    (NP (NN toll))\n",
      "    (PP\n",
      "      (IN of)\n",
      "      (NP\n",
      "        (NP (DT the) (NN suicide) (NN bombing))\n",
      "        (PP (IN in) (NP (NNP Ibb)))))))\n",
      "(NP (DT The) (NN death))\n",
      "(NP\n",
      "  (NP (NN toll))\n",
      "  (PP\n",
      "    (IN of)\n",
      "    (NP\n",
      "      (NP (DT the) (NN suicide) (NN bombing))\n",
      "      (PP (IN in) (NP (NNP Ibb))))))\n",
      "(NP (NN toll))\n",
      "(NP\n",
      "  (NP (DT the) (NN suicide) (NN bombing))\n",
      "  (PP (IN in) (NP (NNP Ibb))))\n",
      "(NP (DT the) (NN suicide) (NN bombing))\n",
      "(NP (NNP Ibb))\n"
     ]
    }
   ],
   "source": [
    "# empty_list = []\n",
    "for i in Tree.fromstring(parsestr).subtrees():\n",
    "    if i.label() == 'NP':\n",
    "        print (i)\n",
    "        \n",
    "#         ptempty_list.append(i)"
   ]
  },
  {
   "cell_type": "code",
   "execution_count": 13,
   "metadata": {},
   "outputs": [
    {
     "name": "stdout",
     "output_type": "stream",
     "text": [
      "['The', 'death', 'toll', 'of', 'the', 'suicide', 'bombing', 'in', 'Ibb']\n",
      "['The', 'death']\n",
      "['toll', 'of', 'the', 'suicide', 'bombing', 'in', 'Ibb']\n",
      "['toll']\n",
      "['the', 'suicide', 'bombing', 'in', 'Ibb']\n",
      "['the', 'suicide', 'bombing']\n",
      "['Ibb']\n"
     ]
    }
   ],
   "source": [
    "for i in Tree.fromstring(parsestr).subtrees():\n",
    "    if i.label() == 'NP':\n",
    "        print (i.leaves())"
   ]
  },
  {
   "cell_type": "code",
   "execution_count": 14,
   "metadata": {},
   "outputs": [],
   "source": [
    " fo = open('work', 'w')"
   ]
  },
  {
   "cell_type": "code",
   "execution_count": 15,
   "metadata": {},
   "outputs": [
    {
     "name": "stdout",
     "output_type": "stream",
     "text": [
      "(NP\n",
      "  (NP (DT The) (NN death))\n",
      "  (NP\n",
      "    (NP (NN toll))\n",
      "    (PP\n",
      "      (IN of)\n",
      "      (NP\n",
      "        (NP (DT the) (NN suicide) (NN bombing))\n",
      "        (PP (IN in) (NP (NNP Ibb)))))))\n",
      "['The', 'death', 'toll', 'of', 'the', 'suicide', 'bombing', 'in', 'Ibb']\n",
      "\n",
      "\n",
      "\n",
      "________________________________________________________________________\n",
      "\n",
      "\n",
      "\n",
      "(NP (DT The) (NN death))\n",
      "['The', 'death']\n",
      "\n",
      "\n",
      "\n",
      "________________________________________________________________________\n",
      "\n",
      "\n",
      "\n",
      "(NP\n",
      "  (NP (NN toll))\n",
      "  (PP\n",
      "    (IN of)\n",
      "    (NP\n",
      "      (NP (DT the) (NN suicide) (NN bombing))\n",
      "      (PP (IN in) (NP (NNP Ibb))))))\n",
      "['toll', 'of', 'the', 'suicide', 'bombing', 'in', 'Ibb']\n",
      "\n",
      "\n",
      "\n",
      "________________________________________________________________________\n",
      "\n",
      "\n",
      "\n",
      "(NP (NN toll))\n",
      "['toll']\n",
      "\n",
      "\n",
      "\n",
      "________________________________________________________________________\n",
      "\n",
      "\n",
      "\n",
      "(NP\n",
      "  (NP (DT the) (NN suicide) (NN bombing))\n",
      "  (PP (IN in) (NP (NNP Ibb))))\n",
      "['the', 'suicide', 'bombing', 'in', 'Ibb']\n",
      "\n",
      "\n",
      "\n",
      "________________________________________________________________________\n",
      "\n",
      "\n",
      "\n",
      "(NP (DT the) (NN suicide) (NN bombing))\n",
      "['the', 'suicide', 'bombing']\n",
      "\n",
      "\n",
      "\n",
      "________________________________________________________________________\n",
      "\n",
      "\n",
      "\n",
      "(NP (NNP Ibb))\n",
      "['Ibb']\n",
      "\n",
      "\n",
      "\n",
      "________________________________________________________________________\n",
      "\n",
      "\n",
      "\n"
     ]
    }
   ],
   "source": [
    "# for subtree3 in tree.subtrees():\n",
    "#     if subtree3.label() == 'CLAUSE':\n",
    "#         print(subtree3)\n",
    "#         print subtree3.leaves()\n",
    "#         fo.write(str(subtree3.leaves()))\n",
    "# fo.flush()\n",
    "# fo.close()\n",
    "#!/usr/bin/python\n",
    "for i in Tree.fromstring(parsestr).subtrees():\n",
    "    if i.label() == 'NP':\n",
    "        print (i)\n",
    "        print (i.leaves())\n",
    "        fo.write(str(i )+ '\\n\\n\\n')\n",
    "        fo.write(str(i.leaves())+ '\\n\\n\\n')\n",
    "#         fo.write(\"\\n\")\n",
    "                 \n",
    "        print (\"\\n\\n\\n________________________________________________________________________\\n\\n\\n\")\n",
    "fo.flush()\n",
    "fo.close()"
   ]
  },
  {
   "cell_type": "code",
   "execution_count": null,
   "metadata": {},
   "outputs": [],
   "source": []
  }
 ],
 "metadata": {
  "kernelspec": {
   "display_name": "Python 3",
   "language": "python",
   "name": "python3"
  },
  "language_info": {
   "codemirror_mode": {
    "name": "ipython",
    "version": 3
   },
   "file_extension": ".py",
   "mimetype": "text/x-python",
   "name": "python",
   "nbconvert_exporter": "python",
   "pygments_lexer": "ipython3",
   "version": "3.7.3"
  }
 },
 "nbformat": 4,
 "nbformat_minor": 2
}
